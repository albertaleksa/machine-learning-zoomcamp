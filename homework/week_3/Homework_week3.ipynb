{
 "cells": [
  {
   "cell_type": "markdown",
   "id": "fbc623f6",
   "metadata": {},
   "source": [
    "## Download and prepare dataset"
   ]
  },
  {
   "cell_type": "code",
   "execution_count": 18,
   "id": "7a79ecf6",
   "metadata": {},
   "outputs": [],
   "source": [
    "import pandas as pd\n",
    "import numpy as np"
   ]
  },
  {
   "cell_type": "code",
   "execution_count": 2,
   "id": "94035d38",
   "metadata": {},
   "outputs": [
    {
     "name": "stdout",
     "output_type": "stream",
     "text": [
      "--2023-10-02 18:27:56--  https://raw.githubusercontent.com/alexeygrigorev/mlbookcamp-code/master/chapter-02-car-price/data.csv\n",
      "Resolving raw.githubusercontent.com (raw.githubusercontent.com)... 185.199.108.133, 185.199.109.133, 185.199.110.133, ...\n",
      "Connecting to raw.githubusercontent.com (raw.githubusercontent.com)|185.199.108.133|:443... connected.\n",
      "HTTP request sent, awaiting response... 200 OK\n",
      "Length: 1475504 (1.4M) [text/plain]\n",
      "Saving to: ‘data.csv’\n",
      "\n",
      "data.csv            100%[===================>]   1.41M  --.-KB/s    in 0.07s   \n",
      "\n",
      "2023-10-02 18:27:57 (21.3 MB/s) - ‘data.csv’ saved [1475504/1475504]\n",
      "\n"
     ]
    }
   ],
   "source": [
    "!wget https://raw.githubusercontent.com/alexeygrigorev/mlbookcamp-code/master/chapter-02-car-price/data.csv"
   ]
  },
  {
   "cell_type": "code",
   "execution_count": 3,
   "id": "405301fb",
   "metadata": {},
   "outputs": [],
   "source": [
    "# Reading the downloaded CSV file\n",
    "data = pd.read_csv('data.csv')"
   ]
  },
  {
   "cell_type": "code",
   "execution_count": 4,
   "id": "06ef4650",
   "metadata": {},
   "outputs": [],
   "source": [
    "# Selecting only the necessary columns\n",
    "selected_columns = [\n",
    "    'Make', 'Model', 'Year', 'Engine HP', 'Engine Cylinders', \n",
    "    'Transmission Type', 'Vehicle Style', 'highway MPG', 'city mpg', 'MSRP'\n",
    "]\n",
    "\n",
    "data = data[selected_columns]\n",
    "\n",
    "# Renaming the columns\n",
    "data.columns = data.columns.str.replace(' ', '_').str.lower()\n",
    "\n",
    "# Filling missing values with 0\n",
    "data = data.fillna(0)\n",
    "\n",
    "# Renaming 'msrp' to 'price'\n",
    "data = data.rename(columns={'msrp': 'price'})"
   ]
  },
  {
   "cell_type": "code",
   "execution_count": 11,
   "id": "45aee418",
   "metadata": {},
   "outputs": [
    {
     "data": {
      "text/html": [
       "<div>\n",
       "<style scoped>\n",
       "    .dataframe tbody tr th:only-of-type {\n",
       "        vertical-align: middle;\n",
       "    }\n",
       "\n",
       "    .dataframe tbody tr th {\n",
       "        vertical-align: top;\n",
       "    }\n",
       "\n",
       "    .dataframe thead th {\n",
       "        text-align: right;\n",
       "    }\n",
       "</style>\n",
       "<table border=\"1\" class=\"dataframe\">\n",
       "  <thead>\n",
       "    <tr style=\"text-align: right;\">\n",
       "      <th></th>\n",
       "      <th>make</th>\n",
       "      <th>model</th>\n",
       "      <th>year</th>\n",
       "      <th>engine_hp</th>\n",
       "      <th>engine_cylinders</th>\n",
       "      <th>transmission_type</th>\n",
       "      <th>vehicle_style</th>\n",
       "      <th>highway_mpg</th>\n",
       "      <th>city_mpg</th>\n",
       "      <th>price</th>\n",
       "      <th>above_average</th>\n",
       "    </tr>\n",
       "  </thead>\n",
       "  <tbody>\n",
       "    <tr>\n",
       "      <th>0</th>\n",
       "      <td>BMW</td>\n",
       "      <td>1 Series M</td>\n",
       "      <td>2011</td>\n",
       "      <td>335.0</td>\n",
       "      <td>6.0</td>\n",
       "      <td>MANUAL</td>\n",
       "      <td>Coupe</td>\n",
       "      <td>26</td>\n",
       "      <td>19</td>\n",
       "      <td>46135</td>\n",
       "      <td>1</td>\n",
       "    </tr>\n",
       "    <tr>\n",
       "      <th>1</th>\n",
       "      <td>BMW</td>\n",
       "      <td>1 Series</td>\n",
       "      <td>2011</td>\n",
       "      <td>300.0</td>\n",
       "      <td>6.0</td>\n",
       "      <td>MANUAL</td>\n",
       "      <td>Convertible</td>\n",
       "      <td>28</td>\n",
       "      <td>19</td>\n",
       "      <td>40650</td>\n",
       "      <td>1</td>\n",
       "    </tr>\n",
       "    <tr>\n",
       "      <th>2</th>\n",
       "      <td>BMW</td>\n",
       "      <td>1 Series</td>\n",
       "      <td>2011</td>\n",
       "      <td>300.0</td>\n",
       "      <td>6.0</td>\n",
       "      <td>MANUAL</td>\n",
       "      <td>Coupe</td>\n",
       "      <td>28</td>\n",
       "      <td>20</td>\n",
       "      <td>36350</td>\n",
       "      <td>0</td>\n",
       "    </tr>\n",
       "    <tr>\n",
       "      <th>3</th>\n",
       "      <td>BMW</td>\n",
       "      <td>1 Series</td>\n",
       "      <td>2011</td>\n",
       "      <td>230.0</td>\n",
       "      <td>6.0</td>\n",
       "      <td>MANUAL</td>\n",
       "      <td>Coupe</td>\n",
       "      <td>28</td>\n",
       "      <td>18</td>\n",
       "      <td>29450</td>\n",
       "      <td>0</td>\n",
       "    </tr>\n",
       "    <tr>\n",
       "      <th>4</th>\n",
       "      <td>BMW</td>\n",
       "      <td>1 Series</td>\n",
       "      <td>2011</td>\n",
       "      <td>230.0</td>\n",
       "      <td>6.0</td>\n",
       "      <td>MANUAL</td>\n",
       "      <td>Convertible</td>\n",
       "      <td>28</td>\n",
       "      <td>18</td>\n",
       "      <td>34500</td>\n",
       "      <td>0</td>\n",
       "    </tr>\n",
       "  </tbody>\n",
       "</table>\n",
       "</div>"
      ],
      "text/plain": [
       "  make       model  year  engine_hp  engine_cylinders transmission_type  \\\n",
       "0  BMW  1 Series M  2011      335.0               6.0            MANUAL   \n",
       "1  BMW    1 Series  2011      300.0               6.0            MANUAL   \n",
       "2  BMW    1 Series  2011      300.0               6.0            MANUAL   \n",
       "3  BMW    1 Series  2011      230.0               6.0            MANUAL   \n",
       "4  BMW    1 Series  2011      230.0               6.0            MANUAL   \n",
       "\n",
       "  vehicle_style  highway_mpg  city_mpg  price  above_average  \n",
       "0         Coupe           26        19  46135              1  \n",
       "1   Convertible           28        19  40650              1  \n",
       "2         Coupe           28        20  36350              0  \n",
       "3         Coupe           28        18  29450              0  \n",
       "4   Convertible           28        18  34500              0  "
      ]
     },
     "execution_count": 11,
     "metadata": {},
     "output_type": "execute_result"
    }
   ],
   "source": [
    "# Display the first few rows of the data\n",
    "data.head()"
   ]
  },
  {
   "cell_type": "markdown",
   "id": "94474766",
   "metadata": {},
   "source": [
    "### Question 1\n",
    "\n",
    "What is the most frequent observation (mode) for the column transmission_type?"
   ]
  },
  {
   "cell_type": "code",
   "execution_count": 6,
   "id": "927aece7",
   "metadata": {},
   "outputs": [
    {
     "name": "stdout",
     "output_type": "stream",
     "text": [
      "The most frequent observation for the column 'transmission_type' is: AUTOMATIC\n"
     ]
    }
   ],
   "source": [
    "# Find the most frequent observation (mode) for the column 'transmission_type'\n",
    "mode_transmission_type = data['transmission_type'].mode()[0]\n",
    "print(f\"The most frequent observation for the column 'transmission_type' is: {mode_transmission_type}\")\n"
   ]
  },
  {
   "cell_type": "markdown",
   "id": "48fa14d5",
   "metadata": {},
   "source": [
    "## Question 2\n",
    "\n",
    "Create the correlation matrix for the numerical features of your dataset. In a correlation matrix, you compute the correlation coefficient between every pair of features in the dataset.\n",
    "\n",
    "What are the two features that have the biggest correlation in this dataset?"
   ]
  },
  {
   "cell_type": "code",
   "execution_count": 9,
   "id": "aa09b531",
   "metadata": {},
   "outputs": [
    {
     "data": {
      "text/plain": [
       "('highway_mpg', 'city_mpg')"
      ]
     },
     "execution_count": 9,
     "metadata": {},
     "output_type": "execute_result"
    }
   ],
   "source": [
    "# Calculate the correlation matrix for numerical features\n",
    "correlation_matrix = data.corr(numeric_only=True)\n",
    "\n",
    "# Find the two features with the biggest correlation\n",
    "correlation_matrix_values = correlation_matrix.abs().unstack()\n",
    "correlation_matrix_values = correlation_matrix_values.sort_values(ascending=False)\n",
    "correlation_matrix_values = correlation_matrix_values[correlation_matrix_values < 1.0]\n",
    "\n",
    "# Get the two features with the biggest correlation\n",
    "highest_corr_features = correlation_matrix_values.idxmax()\n",
    "highest_corr_features"
   ]
  },
  {
   "cell_type": "markdown",
   "id": "34ea4488",
   "metadata": {},
   "source": [
    "## Make price binary"
   ]
  },
  {
   "cell_type": "code",
   "execution_count": 10,
   "id": "c87b22d4",
   "metadata": {},
   "outputs": [],
   "source": [
    "# Calculate the mean price\n",
    "mean_price = data['price'].mean()\n",
    "\n",
    "# Create a binary variable 'above_average'\n",
    "data['above_average'] = (data['price'] > mean_price).astype(int)\n"
   ]
  },
  {
   "cell_type": "markdown",
   "id": "ea055471",
   "metadata": {},
   "source": [
    "## Split the data"
   ]
  },
  {
   "cell_type": "code",
   "execution_count": 12,
   "id": "24c57e51",
   "metadata": {},
   "outputs": [],
   "source": [
    "from sklearn.model_selection import train_test_split\n",
    "\n",
    "# Features and target variable\n",
    "features = data.drop(['price', 'above_average'], axis=1)\n",
    "target = data['above_average']\n",
    "\n",
    "# First, split the data into train and temp (to further split into validation and test sets)\n",
    "X_train, X_temp, y_train, y_temp = train_test_split(features, target, test_size=0.4, random_state=42)\n",
    "\n",
    "# Then split the temp data into validation and test sets\n",
    "X_val, X_test, y_val, y_test = train_test_split(X_temp, y_temp, test_size=0.5, random_state=42)\n"
   ]
  },
  {
   "cell_type": "markdown",
   "id": "fca75272",
   "metadata": {},
   "source": [
    "## Question 3\n",
    "Calculate the mutual information score between above_average and other categorical variables in our dataset. Use the training set only.\n",
    "\n",
    "Round the scores to 2 decimals using round(score, 2).\n",
    "Which of these variables has the lowest mutual information score?"
   ]
  },
  {
   "cell_type": "code",
   "execution_count": 16,
   "id": "d68a9291",
   "metadata": {},
   "outputs": [
    {
     "name": "stdout",
     "output_type": "stream",
     "text": [
      "Mutual Information Scores: {'make': 0.02, 'model': 0.01, 'transmission_type': 0.02, 'vehicle_style': 0.04}\n"
     ]
    }
   ],
   "source": [
    "from sklearn.feature_selection import mutual_info_classif\n",
    "from sklearn.preprocessing import LabelEncoder\n",
    "\n",
    "# Initialize a dictionary to hold variable names and their respective mutual information scores\n",
    "mi_scores = {}\n",
    "\n",
    "# List of categorical variables\n",
    "categorical_vars = ['make', 'model', 'transmission_type', 'vehicle_style']\n",
    "\n",
    "# Calculate mutual information scores\n",
    "for var in categorical_vars:\n",
    "    le = LabelEncoder()\n",
    "    le.fit(X_train[var])\n",
    "    X_train_enc = le.transform(X_train[var])\n",
    "    mi = mutual_info_classif(X_train_enc.reshape(-1, 1), y_train)\n",
    "    mi_scores[var] = round(mi[0], 2)\n",
    "\n",
    "print(\"Mutual Information Scores:\", mi_scores)\n",
    "\n"
   ]
  },
  {
   "cell_type": "markdown",
   "id": "8bed286c",
   "metadata": {},
   "source": [
    "## Question 4"
   ]
  },
  {
   "cell_type": "code",
   "execution_count": 20,
   "id": "414c0358",
   "metadata": {},
   "outputs": [],
   "source": [
    "numerical_vars = ['year', 'engine_hp', 'engine_cylinders', 'highway_mpg', 'city_mpg']"
   ]
  },
  {
   "cell_type": "code",
   "execution_count": 21,
   "id": "765aa05b",
   "metadata": {},
   "outputs": [
    {
     "name": "stderr",
     "output_type": "stream",
     "text": [
      "/home/de_user/anaconda3/lib/python3.11/site-packages/sklearn/preprocessing/_encoders.py:868: FutureWarning: `sparse` was renamed to `sparse_output` in version 1.2 and will be removed in 1.4. `sparse_output` is ignored unless you leave `sparse` to its default value.\n",
      "  warnings.warn(\n"
     ]
    },
    {
     "data": {
      "text/plain": [
       "0.93"
      ]
     },
     "execution_count": 21,
     "metadata": {},
     "output_type": "execute_result"
    }
   ],
   "source": [
    "from sklearn.linear_model import LogisticRegression\n",
    "from sklearn.metrics import accuracy_score\n",
    "from sklearn.preprocessing import OneHotEncoder\n",
    "\n",
    "# One-hot encoding for categorical variables\n",
    "ohe = OneHotEncoder(sparse=False, handle_unknown='ignore')\n",
    "ohe.fit(X_train[categorical_vars])\n",
    "\n",
    "X_train_ohe = ohe.transform(X_train[categorical_vars])\n",
    "X_val_ohe = ohe.transform(X_val[categorical_vars])\n",
    "\n",
    "# Combine numerical and one-hot encoded categorical features\n",
    "X_train_combined = np.hstack([X_train[numerical_vars], X_train_ohe])\n",
    "X_val_combined = np.hstack([X_val[numerical_vars], X_val_ohe])\n",
    "\n",
    "# Create and train the model\n",
    "model = LogisticRegression(solver='liblinear', C=10, max_iter=1000, random_state=42)\n",
    "model.fit(X_train_combined, y_train)\n",
    "\n",
    "# Predict and evaluate\n",
    "y_val_pred = model.predict(X_val_combined)\n",
    "accuracy = round(accuracy_score(y_val, y_val_pred), 2)\n",
    "\n",
    "accuracy\n"
   ]
  },
  {
   "cell_type": "markdown",
   "id": "e6dece0f",
   "metadata": {},
   "source": [
    "## Question 5"
   ]
  },
  {
   "cell_type": "code",
   "execution_count": 22,
   "id": "0ceca46d",
   "metadata": {},
   "outputs": [
    {
     "data": {
      "text/plain": [
       "([('year', -0.018464120856063748),\n",
       "  ('highway_mpg', -0.018044481745698726),\n",
       "  ('transmission_type', -0.014687368862777994),\n",
       "  ('vehicle_style', -0.014687368862777994),\n",
       "  ('city_mpg', -0.013428451531682706),\n",
       "  ('make', -0.01258917331095255),\n",
       "  ('engine_cylinders', -0.010071338648762085),\n",
       "  ('model', 0.0),\n",
       "  ('engine_hp', 0.004196391103650887)],\n",
       " 0.9278220730172052)"
      ]
     },
     "execution_count": 22,
     "metadata": {},
     "output_type": "execute_result"
    }
   ],
   "source": [
    "from sklearn.metrics import accuracy_score\n",
    "\n",
    "# Original model with all features\n",
    "model_all_features = LogisticRegression(solver='liblinear', C=10, max_iter=1000, random_state=42)\n",
    "model_all_features.fit(X_train_combined, y_train)\n",
    "y_pred_all_features = model_all_features.predict(X_val_combined)\n",
    "original_accuracy = accuracy_score(y_val, y_pred_all_features)\n",
    "\n",
    "# Dictionary to store the differences in accuracies\n",
    "accuracy_diff = {}\n",
    "\n",
    "# Loop to remove each feature, retrain the model, and calculate the accuracy\n",
    "for i, feature in enumerate(numerical_vars + categorical_vars):\n",
    "    # Create new training and validation sets without the current feature\n",
    "    X_train_reduced = np.delete(X_train_combined, np.s_[i:i+1], axis=1)\n",
    "    X_val_reduced = np.delete(X_val_combined, np.s_[i:i+1], axis=1)\n",
    "    \n",
    "    # Train the model\n",
    "    model_reduced = LogisticRegression(solver='liblinear', C=10, max_iter=1000, random_state=42)\n",
    "    model_reduced.fit(X_train_reduced, y_train)\n",
    "    \n",
    "    # Make predictions and calculate accuracy\n",
    "    y_pred_reduced = model_reduced.predict(X_val_reduced)\n",
    "    reduced_accuracy = accuracy_score(y_val, y_pred_reduced)\n",
    "    \n",
    "    # Calculate the difference in accuracy\n",
    "    accuracy_diff[feature] = original_accuracy - reduced_accuracy\n",
    "\n",
    "# Sort the features by the difference in accuracy\n",
    "sorted_accuracy_diff = sorted(accuracy_diff.items(), key=lambda x: x[1])\n",
    "\n",
    "sorted_accuracy_diff, original_accuracy\n"
   ]
  },
  {
   "cell_type": "code",
   "execution_count": 27,
   "id": "4c4e32ee",
   "metadata": {},
   "outputs": [
    {
     "data": {
      "text/plain": [
       "'engine_hp'"
      ]
     },
     "execution_count": 27,
     "metadata": {},
     "output_type": "execute_result"
    }
   ],
   "source": [
    "# Filter out the feature with zero difference\n",
    "non_zero_diff = [item for item in sorted_accuracy_diff if item[1] != 0]\n",
    "\n",
    "# Find the feature with the smallest absolute difference\n",
    "smallest_diff_feature = min(non_zero_diff, key=lambda x: abs(x[1]))[0]\n",
    "smallest_diff_feature"
   ]
  },
  {
   "cell_type": "markdown",
   "id": "02cef05b",
   "metadata": {},
   "source": [
    "## Question 6"
   ]
  },
  {
   "cell_type": "code",
   "execution_count": 31,
   "id": "2a7606af",
   "metadata": {},
   "outputs": [
    {
     "name": "stdout",
     "output_type": "stream",
     "text": [
      "{0: 1373919371228.276, 0.01: 0.15, 0.1: 0.15, 1: 0.151, 10: 0.165}\n"
     ]
    }
   ],
   "source": [
    "from sklearn.linear_model import Ridge\n",
    "from sklearn.metrics import mean_squared_error\n",
    "\n",
    "# Apply logarithmic transformation to the 'price' variable\n",
    "y_train_log = np.log1p(y_train)\n",
    "y_val_log = np.log1p(y_val)\n",
    "\n",
    "# Initialize variables to store RMSE scores\n",
    "rmse_scores = {}\n",
    "\n",
    "# List of alpha values to try\n",
    "alphas = [0, 0.01, 0.1, 1, 10]\n",
    "\n",
    "# Loop through each alpha value\n",
    "for alpha in alphas:\n",
    "    # Train the Ridge regression model\n",
    "    ridge_model = Ridge(alpha=alpha)\n",
    "    ridge_model.fit(X_train_combined, y_train_log)\n",
    "    \n",
    "    # Make predictions\n",
    "    y_pred_log = ridge_model.predict(X_val_combined)\n",
    "    \n",
    "    # Calculate RMSE\n",
    "    rmse_score = np.sqrt(mean_squared_error(y_val_log, y_pred_log))\n",
    "    \n",
    "    # Store RMSE score\n",
    "    rmse_scores[alpha] = round(rmse_score, 3)\n",
    "\n",
    "# Print RMSE scores\n",
    "print(rmse_scores)\n"
   ]
  },
  {
   "cell_type": "code",
   "execution_count": 32,
   "id": "1978a0e3",
   "metadata": {},
   "outputs": [],
   "source": [
    "## 0.01"
   ]
  },
  {
   "cell_type": "code",
   "execution_count": null,
   "id": "2266393f",
   "metadata": {},
   "outputs": [],
   "source": []
  },
  {
   "cell_type": "code",
   "execution_count": null,
   "id": "e9c513e1",
   "metadata": {},
   "outputs": [],
   "source": []
  }
 ],
 "metadata": {
  "kernelspec": {
   "display_name": "Python 3 (ipykernel)",
   "language": "python",
   "name": "python3"
  },
  "language_info": {
   "codemirror_mode": {
    "name": "ipython",
    "version": 3
   },
   "file_extension": ".py",
   "mimetype": "text/x-python",
   "name": "python",
   "nbconvert_exporter": "python",
   "pygments_lexer": "ipython3",
   "version": "3.11.3"
  }
 },
 "nbformat": 4,
 "nbformat_minor": 5
}
